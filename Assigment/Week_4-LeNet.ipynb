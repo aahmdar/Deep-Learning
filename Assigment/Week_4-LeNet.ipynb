{
  "nbformat": 4,
  "nbformat_minor": 0,
  "metadata": {
    "colab": {
      "name": "Week_4-LeNet.ipynb",
      "provenance": [],
      "collapsed_sections": []
    },
    "kernelspec": {
      "name": "python3",
      "display_name": "Python 3"
    },
    "language_info": {
      "name": "python"
    },
    "accelerator": "GPU"
  },
  "cells": [
    {
      "cell_type": "markdown",
      "source": [
        "# LeNet\n",
        "LeNet atau LeNet-5 merupakan struktur CNN yang diusulkan oleh Yann LeCun et al. Struktur LeNet termasuk struktur yang sederhana, terdiri dari 2 layer konvolusi, 2 layer pooling, dan 3 Fully connected layer.\n",
        "\n",
        "Pada tingkat tinggi, LeNet (LeNet-5) terdiri dari dua bagian:\n",
        "\n",
        "*   Encoder konvolusi yang terdiri dari dua lapisan konvolusi; dan\n",
        "*   Blok padat yang terdiri dari tiga lapisan yang terhubung penuh\n",
        "\n",
        "![Data flow in LeNet.](http://d2l.ai/_images/lenet.svg)\n",
        "Aliran data di LeNet. Input berupa digit tulisan tangan, output probabilitas lebih dari 10 kemungkinan hasil.\n",
        "\n"
      ],
      "metadata": {
        "id": "vvnqUyybm4Wv"
      }
    },
    {
      "cell_type": "code",
      "execution_count": 1,
      "metadata": {
        "id": "eDRluKp1-3w1"
      },
      "outputs": [],
      "source": [
        "import matplotlib.pyplot as plt\n",
        "import tensorflow as tf\n",
        "import numpy as np"
      ]
    },
    {
      "cell_type": "code",
      "source": [
        "#Menggunakan Dataset MNIST\n",
        "mnist = tf.keras.datasets.mnist\n",
        "(x_train, y_train), (x_test, y_test) = mnist.load_data()"
      ],
      "metadata": {
        "colab": {
          "base_uri": "https://localhost:8080/"
        },
        "id": "RuV-WY7R-6x4",
        "outputId": "4bbe8ebc-70ff-465e-f069-db2100893daf"
      },
      "execution_count": 2,
      "outputs": [
        {
          "output_type": "stream",
          "name": "stdout",
          "text": [
            "Downloading data from https://storage.googleapis.com/tensorflow/tf-keras-datasets/mnist.npz\n",
            "11493376/11490434 [==============================] - 0s 0us/step\n",
            "11501568/11490434 [==============================] - 0s 0us/step\n"
          ]
        }
      ]
    },
    {
      "cell_type": "code",
      "source": [
        "rows, cols = 28, 28"
      ],
      "metadata": {
        "id": "d-iUpUED_Lya"
      },
      "execution_count": 3,
      "outputs": []
    },
    {
      "cell_type": "code",
      "source": [
        "x_train = x_train.reshape(x_train.shape[0], rows, cols, 1)\n",
        "x_test = x_test.reshape(x_test.shape[0], rows, cols, 1)"
      ],
      "metadata": {
        "id": "8Eg3dUo2_Svf"
      },
      "execution_count": 4,
      "outputs": []
    },
    {
      "cell_type": "code",
      "source": [
        "input_shape = (rows, cols, 1)"
      ],
      "metadata": {
        "id": "qF9cCXxl_Uhz"
      },
      "execution_count": 5,
      "outputs": []
    },
    {
      "cell_type": "code",
      "source": [
        "#Melakukan Normalisasi\n",
        "x_train = x_train.astype('float32')\n",
        "x_test = x_test.astype('float32')\n",
        "x_train = x_train / 255.0\n",
        "x_test = x_test / 255.0"
      ],
      "metadata": {
        "id": "G1n7T5bI_WCo"
      },
      "execution_count": 6,
      "outputs": []
    },
    {
      "cell_type": "code",
      "source": [
        "#One-hot encode\n",
        "y_train = tf.keras.utils.to_categorical(y_train, 10)\n",
        "y_test = tf.keras.utils.to_categorical(y_test, 10)"
      ],
      "metadata": {
        "id": "Nx5VTKqw_XU0"
      },
      "execution_count": 7,
      "outputs": []
    },
    {
      "cell_type": "code",
      "source": [
        "def build_lenet(input_shape):\n",
        "    model = tf.keras.Sequential()\n",
        "\n",
        "    model.add(tf.keras.layers.Conv2D(filters=6,\n",
        "                                     kernel_size = (5,5),\n",
        "                                     strides = (1,1),\n",
        "                                     activation = 'tanh',\n",
        "                                     input_shape = input_shape))\n",
        "\n",
        "    model.add(tf.keras.layers.AveragePooling2D(pool_size = (2,2),\n",
        "                                               strides = (2,2)))\n",
        "    model.add(tf.keras.layers.Conv2D(filters = 16,\n",
        "                                     kernel_size = (5,5),\n",
        "                                     strides =  (1,1),\n",
        "                                     activation = 'tanh'))\n",
        "    model.add(tf.keras.layers.AveragePooling2D(pool_size = (2,2),\n",
        "                                               strides = (2,2)))\n",
        "    model.add(tf.keras.layers.Flatten())\n",
        "    model.add(tf.keras.layers.Dense(units = 120,\n",
        "                                    activation = 'tanh'))\n",
        "    model.add(tf.keras.layers.Flatten())\n",
        "    model.add(tf.keras.layers.Dense(units = 84,\n",
        "                                      activation = 'tanh'))\n",
        "    model.add(tf.keras.layers.Dense(units = 10,\n",
        "                                    activation = 'softmax'))\n",
        "    model.compile(loss='categorical_crossentropy',\n",
        "                  optimizer = tf.keras.optimizers.SGD(lr = 0.1,momentum = 0.0,decay = 0.0),\n",
        "                  metrics = ['accuracy'])\n",
        "    return model"
      ],
      "metadata": {
        "id": "utsPUM9M_Zbo"
      },
      "execution_count": 8,
      "outputs": []
    },
    {
      "cell_type": "code",
      "source": [
        "lenet = build_lenet(input_shape)"
      ],
      "metadata": {
        "colab": {
          "base_uri": "https://localhost:8080/"
        },
        "id": "GGrs1IuU_a56",
        "outputId": "589cd73a-fd71-4363-a898-0a28991fa91d"
      },
      "execution_count": 9,
      "outputs": [
        {
          "output_type": "stream",
          "name": "stderr",
          "text": [
            "/usr/local/lib/python3.7/dist-packages/keras/optimizer_v2/gradient_descent.py:102: UserWarning: The `lr` argument is deprecated, use `learning_rate` instead.\n",
            "  super(SGD, self).__init__(name, **kwargs)\n"
          ]
        }
      ]
    },
    {
      "cell_type": "code",
      "source": [
        "epochs = 10"
      ],
      "metadata": {
        "id": "X7_QW9HJ_cDv"
      },
      "execution_count": 10,
      "outputs": []
    },
    {
      "cell_type": "code",
      "source": [
        "history = lenet.fit(x_train, y_train,\n",
        "                    epochs = epochs,\n",
        "                    batch_size = 128,\n",
        "                    verbose = 1)"
      ],
      "metadata": {
        "colab": {
          "base_uri": "https://localhost:8080/"
        },
        "id": "swAku8Um_di2",
        "outputId": "e5f5816a-8f79-4afe-a37a-65e916b7d663"
      },
      "execution_count": 11,
      "outputs": [
        {
          "output_type": "stream",
          "name": "stdout",
          "text": [
            "Epoch 1/10\n",
            "469/469 [==============================] - 13s 4ms/step - loss: 0.4038 - accuracy: 0.8873\n",
            "Epoch 2/10\n",
            "469/469 [==============================] - 2s 4ms/step - loss: 0.1607 - accuracy: 0.9523\n",
            "Epoch 3/10\n",
            "469/469 [==============================] - 2s 4ms/step - loss: 0.1060 - accuracy: 0.9687\n",
            "Epoch 4/10\n",
            "469/469 [==============================] - 2s 4ms/step - loss: 0.0812 - accuracy: 0.9760\n",
            "Epoch 5/10\n",
            "469/469 [==============================] - 2s 4ms/step - loss: 0.0675 - accuracy: 0.9800\n",
            "Epoch 6/10\n",
            "469/469 [==============================] - 2s 4ms/step - loss: 0.0582 - accuracy: 0.9830\n",
            "Epoch 7/10\n",
            "469/469 [==============================] - 2s 4ms/step - loss: 0.0514 - accuracy: 0.9846\n",
            "Epoch 8/10\n",
            "469/469 [==============================] - 2s 4ms/step - loss: 0.0463 - accuracy: 0.9858\n",
            "Epoch 9/10\n",
            "469/469 [==============================] - 2s 4ms/step - loss: 0.0414 - accuracy: 0.9879\n",
            "Epoch 10/10\n",
            "469/469 [==============================] - 2s 4ms/step - loss: 0.0382 - accuracy: 0.9890\n"
          ]
        }
      ]
    },
    {
      "cell_type": "code",
      "source": [
        "loss, acc = (lenet.evaluate(x_test, y_test))\n",
        "print('Accuracy: ', acc)"
      ],
      "metadata": {
        "colab": {
          "base_uri": "https://localhost:8080/"
        },
        "id": "pZrTDuEc_fAu",
        "outputId": "a218072f-0790-4833-c315-670469c94966"
      },
      "execution_count": 12,
      "outputs": [
        {
          "output_type": "stream",
          "name": "stdout",
          "text": [
            "313/313 [==============================] - 2s 4ms/step - loss: 0.0393 - accuracy: 0.9872\n",
            "Accuracy:  0.9872000217437744\n"
          ]
        }
      ]
    },
    {
      "cell_type": "code",
      "source": [
        "x_train = x_train.reshape(x_train.shape[0], 28, 28)\n",
        "print('Training Data ', x_train.shape, y_train.shape)"
      ],
      "metadata": {
        "colab": {
          "base_uri": "https://localhost:8080/"
        },
        "id": "YpzXReZ0_gVh",
        "outputId": "f6344786-917a-4122-a6d6-5fb4322bc491"
      },
      "execution_count": 13,
      "outputs": [
        {
          "output_type": "stream",
          "name": "stdout",
          "text": [
            "Training Data  (60000, 28, 28) (60000, 10)\n"
          ]
        }
      ]
    },
    {
      "cell_type": "code",
      "source": [
        "x_test = x_test.reshape(x_test.shape[0], 28, 28)\n",
        "print('Training Data ', x_test.shape, y_test.shape)"
      ],
      "metadata": {
        "colab": {
          "base_uri": "https://localhost:8080/"
        },
        "id": "5x8dWwEp_h9z",
        "outputId": "64e8e742-d2e5-43ce-f875-c9289cb55da8"
      },
      "execution_count": 14,
      "outputs": [
        {
          "output_type": "stream",
          "name": "stdout",
          "text": [
            "Training Data  (10000, 28, 28) (10000, 10)\n"
          ]
        }
      ]
    },
    {
      "cell_type": "code",
      "source": [
        "image_index = 8888\n",
        "plt.imshow(x_test[image_index].reshape(28, 28), cmap= 'Greys')"
      ],
      "metadata": {
        "colab": {
          "base_uri": "https://localhost:8080/",
          "height": 284
        },
        "id": "_WkDOWWv_kw3",
        "outputId": "51957b27-ebc7-4dff-98dc-925be5e98345"
      },
      "execution_count": 15,
      "outputs": [
        {
          "output_type": "execute_result",
          "data": {
            "text/plain": [
              "<matplotlib.image.AxesImage at 0x7f64b73b9550>"
            ]
          },
          "metadata": {},
          "execution_count": 15
        },
        {
          "output_type": "display_data",
          "data": {
            "text/plain": [
              "<Figure size 432x288 with 1 Axes>"
            ],
            "image/png": "[encoded data removed]"
          },
          "metadata": {
            "needs_background": "light"
          }
        }
      ]
    },
    {
      "cell_type": "code",
      "source": [
        "pred = lenet.predict(x_test[image_index].reshape(1, rows, cols, 1))\n",
        "print(pred.argmax())"
      ],
      "metadata": {
        "colab": {
          "base_uri": "https://localhost:8080/"
        },
        "id": "hy-votlL_lG5",
        "outputId": "b1c1b2af-1cae-41d9-edc8-c55b63805c82"
      },
      "execution_count": 16,
      "outputs": [
        {
          "output_type": "stream",
          "name": "stdout",
          "text": [
            "6\n"
          ]
        }
      ]
    }
  ]
}