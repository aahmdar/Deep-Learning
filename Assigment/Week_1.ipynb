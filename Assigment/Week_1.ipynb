{
  "nbformat": 4,
  "nbformat_minor": 0,
  "metadata": {
    "colab": {
      "name": "Week 1.ipynb",
      "provenance": [],
      "collapsed_sections": []
    },
    "kernelspec": {
      "name": "python3",
      "display_name": "Python 3"
    },
    "language_info": {
      "name": "python"
    }
  },
  "cells": [
    {
      "cell_type": "markdown",
      "source": [
        "# Learn Python"
      ],
      "metadata": {
        "id": "Pu8R2IeI7HxH"
      }
    },
    {
      "cell_type": "markdown",
      "source": [
        "## Print Hello World"
      ],
      "metadata": {
        "id": "k-BN8mFu8B1o"
      }
    },
    {
      "cell_type": "code",
      "execution_count": 24,
      "metadata": {
        "colab": {
          "base_uri": "https://localhost:8080/"
        },
        "id": "Y201tp5h6_Rc",
        "outputId": "1f5ef896-a4c7-45fa-9f26-3c4814ac6d76"
      },
      "outputs": [
        {
          "output_type": "stream",
          "name": "stdout",
          "text": [
            "Hello World!\n"
          ]
        }
      ],
      "source": [
        "print(\"Hello World!\")"
      ]
    },
    {
      "cell_type": "markdown",
      "source": [
        "## Tipe Data"
      ],
      "metadata": {
        "id": "NgBb3e_48zt_"
      }
    },
    {
      "cell_type": "markdown",
      "source": [
        "### Integer"
      ],
      "metadata": {
        "id": "2X2f12HTCQE1"
      }
    },
    {
      "cell_type": "code",
      "source": [
        "var_int= 3\n",
        "print(var_int)"
      ],
      "metadata": {
        "colab": {
          "base_uri": "https://localhost:8080/"
        },
        "id": "vBqhoTWeCPmG",
        "outputId": "7d4e9384-98c7-4c13-fc1e-9fa7c7988859"
      },
      "execution_count": 25,
      "outputs": [
        {
          "output_type": "stream",
          "name": "stdout",
          "text": [
            "3\n"
          ]
        }
      ]
    },
    {
      "cell_type": "markdown",
      "source": [
        "### Float/Double"
      ],
      "metadata": {
        "id": "Qq71wR8yCb5l"
      }
    },
    {
      "cell_type": "code",
      "source": [
        "var_float= 1.3\n",
        "print(var_float)"
      ],
      "metadata": {
        "colab": {
          "base_uri": "https://localhost:8080/"
        },
        "id": "kuZ1wRWbChXU",
        "outputId": "ba227c90-7229-49d0-c0e4-17a4137cdf7f"
      },
      "execution_count": 26,
      "outputs": [
        {
          "output_type": "stream",
          "name": "stdout",
          "text": [
            "1.3\n"
          ]
        }
      ]
    },
    {
      "cell_type": "markdown",
      "source": [
        "### String"
      ],
      "metadata": {
        "id": "E4ikQlElCgPl"
      }
    },
    {
      "cell_type": "code",
      "source": [
        "var_string= 'Hello world'\n",
        "print(var_string[4])    # Mengambil karakter ke-4 dari var_string\n",
        "print(var_string[1:5])  # Mengambil karakter ke-1 hingga ke-5 dari var_string\n",
        "print(var_string)"
      ],
      "metadata": {
        "colab": {
          "base_uri": "https://localhost:8080/"
        },
        "id": "TnOftb7CCwW9",
        "outputId": "9473803b-4518-4cc2-d785-1166d297fd2c"
      },
      "execution_count": 27,
      "outputs": [
        {
          "output_type": "stream",
          "name": "stdout",
          "text": [
            "o\n",
            "ello\n",
            "Hello world\n"
          ]
        }
      ]
    },
    {
      "cell_type": "markdown",
      "source": [
        "### Boolean"
      ],
      "metadata": {
        "id": "IzSdCrMhDrVr"
      }
    },
    {
      "cell_type": "code",
      "source": [
        "var_boolean= True\n",
        "print (var_boolean)"
      ],
      "metadata": {
        "colab": {
          "base_uri": "https://localhost:8080/"
        },
        "id": "hyYRT0lkDq2V",
        "outputId": "51f296b0-85b7-4f92-8232-0f71541fd3c1"
      },
      "execution_count": 28,
      "outputs": [
        {
          "output_type": "stream",
          "name": "stdout",
          "text": [
            "True\n"
          ]
        }
      ]
    },
    {
      "cell_type": "markdown",
      "source": [
        "### List"
      ],
      "metadata": {
        "id": "VDz0nMShEjTJ"
      }
    },
    {
      "cell_type": "code",
      "source": [
        "var_list= [\"Hello\", \"world\", 1, 2, 3]\n",
        "var_list[2] = 4       # Mengubah Item List\n",
        "var_list.append(5)    # Menambahkan Item List\n",
        "del var_list[2]       # Menghapus Item List\n",
        "\n",
        "print (var_list[1])   # melakukan slicing\n",
        "print (\"List =\",var_list)"
      ],
      "metadata": {
        "colab": {
          "base_uri": "https://localhost:8080/"
        },
        "id": "-Qj7A0iJEmxR",
        "outputId": "b881a62a-7477-45e4-d8a5-c1d1095a814e"
      },
      "execution_count": 29,
      "outputs": [
        {
          "output_type": "stream",
          "name": "stdout",
          "text": [
            "world\n",
            "List = ['Hello', 'world', 2, 3, 5]\n"
          ]
        }
      ]
    },
    {
      "cell_type": "markdown",
      "source": [
        "### Tuple"
      ],
      "metadata": {
        "id": "CqBFlgt-Ertb"
      }
    },
    {
      "cell_type": "code",
      "source": [
        "# Tuple adalah jenis dari list yang tidak dapat diubah elemennya.\n",
        "var_tuple= (1, \"halo\", 0.2)\n",
        "print (var_tuple[1])   # melakukan slicing"
      ],
      "metadata": {
        "id": "Ijk4WTA0Erf_",
        "colab": {
          "base_uri": "https://localhost:8080/"
        },
        "outputId": "74363ce7-c5ab-42d2-fb1d-f607e56c1751"
      },
      "execution_count": 30,
      "outputs": [
        {
          "output_type": "stream",
          "name": "stdout",
          "text": [
            "halo\n"
          ]
        }
      ]
    },
    {
      "cell_type": "markdown",
      "source": [
        "### Set"
      ],
      "metadata": {
        "id": "09Ty0G3fE6qy"
      }
    },
    {
      "cell_type": "code",
      "source": [
        "# Set adalah kumpulan item bersifat unik dan tanpa urutan (unordered collection).\n",
        "var_set = {1,2,2,3,3,3}\n",
        "\n",
        "# Karena set bersifat unordered, maka kita tidak bisa mengambil sebagian data / elemen datanya menggunakan proses slicing.\n",
        "print(var_set)"
      ],
      "metadata": {
        "colab": {
          "base_uri": "https://localhost:8080/"
        },
        "id": "kD23Ok6ME6IA",
        "outputId": "3a491252-57dd-4f05-a933-dc12abbbce8a"
      },
      "execution_count": 31,
      "outputs": [
        {
          "output_type": "stream",
          "name": "stdout",
          "text": [
            "{1, 2, 3}\n"
          ]
        }
      ]
    },
    {
      "cell_type": "markdown",
      "source": [
        "### Dictionary"
      ],
      "metadata": {
        "id": "ublR-pO5GhZH"
      }
    },
    {
      "cell_type": "code",
      "source": [
        "# Dictionary adalah List yang setiap elemennya berupa pasangan key dan value\n",
        "# Dictionary dapat digunakan untuk menyimpan data kecil hingga besar\n",
        "var_dict= {1 : 'satu', 2 :'dua', 3 :'tiga'}\n",
        "\n",
        "print(var_dict[3]) # Untuk mengakses datanya, kita harus mengetahui kuncinya (key)"
      ],
      "metadata": {
        "colab": {
          "base_uri": "https://localhost:8080/"
        },
        "id": "uPDe_mUfGr2o",
        "outputId": "979194f3-5474-4d74-88ea-05c66c2b4d9c"
      },
      "execution_count": 32,
      "outputs": [
        {
          "output_type": "stream",
          "name": "stdout",
          "text": [
            "tiga\n"
          ]
        }
      ]
    },
    {
      "cell_type": "markdown",
      "source": [
        "## Operasi Aritmatika dan Operasi Bitwise"
      ],
      "metadata": {
        "id": "xM1rJbZ2Iojb"
      }
    },
    {
      "cell_type": "markdown",
      "source": [
        "### Operasi Aritmatika"
      ],
      "metadata": {
        "id": "jiZyCjimLWa4"
      }
    },
    {
      "cell_type": "code",
      "source": [
        "# Add\n",
        "add = 5 + 3\n",
        "print(\"5 + 3 = \",add)\n",
        "\n",
        "# Substract\n",
        "substract = 3 - 1\n",
        "print(\"3 - 1 = \",substract)\n",
        "\n",
        "# Divide\n",
        "divide= 12/3\n",
        "print(\"12 / 3 = \",divide)\n",
        "\n",
        "# Multiplication\n",
        "multiplication = 11 * 3\n",
        "print(\"11 * 3 = \",multiplication)\n",
        "\n",
        "# Modulo\n",
        "modulo = 8 % 3\n",
        "print(\"8 % 2 = \",modulo)\n",
        "\n",
        "# Power\n",
        "power = 3 ** 4\n",
        "print(\"3^4 = \",power)"
      ],
      "metadata": {
        "colab": {
          "base_uri": "https://localhost:8080/"
        },
        "id": "qxr9OklyJbKX",
        "outputId": "f2654a42-8a36-447e-bed5-1d182ae2ecc3"
      },
      "execution_count": 33,
      "outputs": [
        {
          "output_type": "stream",
          "name": "stdout",
          "text": [
            "5 + 3 =  8\n",
            "3 - 1 =  2\n",
            "12 / 3 =  4.0\n",
            "11 * 3 =  33\n",
            "8 % 2 =  2\n",
            "3^4 =  81\n"
          ]
        }
      ]
    },
    {
      "cell_type": "markdown",
      "source": [
        "## Pengkondisian dan Perulangan"
      ],
      "metadata": {
        "id": "5DNErEMcMD8e"
      }
    },
    {
      "cell_type": "markdown",
      "source": [
        "### Pengkondisian"
      ],
      "metadata": {
        "id": "t308kUroMIT1"
      }
    },
    {
      "cell_type": "code",
      "source": [
        "a = 4\n",
        "\n",
        "# if else\n",
        "if(a == 1):\n",
        "    print('a is 1')\n",
        "elif(a == 2):\n",
        "    print('a is 2')\n",
        "else:\n",
        "    print('a is not 1 or 2')\n",
        "  "
      ],
      "metadata": {
        "colab": {
          "base_uri": "https://localhost:8080/"
        },
        "id": "ohZ9ikJMMLCN",
        "outputId": "85ed6ed1-4681-4bd5-9f09-a5cdf79201be"
      },
      "execution_count": 34,
      "outputs": [
        {
          "output_type": "stream",
          "name": "stdout",
          "text": [
            "a is not 1 or 2\n"
          ]
        }
      ]
    },
    {
      "cell_type": "markdown",
      "source": [
        "### Perulangan"
      ],
      "metadata": {
        "id": "AYLU445_MLWm"
      }
    },
    {
      "cell_type": "code",
      "source": [
        "var_list= [1, 2, 3, 4, 5, 6, 7]\n",
        "\n",
        "# for loop\n",
        "for i in var_list:\n",
        "    print(i)\n",
        "print()    \n",
        "\n",
        "# while loop\n",
        "a = 0\n",
        "while(a != len(var_list)):\n",
        "    print(var_list[a])\n",
        "    a += 1\n",
        "print()"
      ],
      "metadata": {
        "colab": {
          "base_uri": "https://localhost:8080/"
        },
        "id": "4ALtCuAXMP5G",
        "outputId": "7aea3e48-c0a2-46c6-c3e9-39560cb739b7"
      },
      "execution_count": 35,
      "outputs": [
        {
          "output_type": "stream",
          "name": "stdout",
          "text": [
            "1\n",
            "2\n",
            "3\n",
            "4\n",
            "5\n",
            "6\n",
            "7\n",
            "\n",
            "1\n",
            "2\n",
            "3\n",
            "4\n",
            "5\n",
            "6\n",
            "7\n",
            "\n"
          ]
        }
      ]
    },
    {
      "cell_type": "markdown",
      "source": [
        "## Fungsi"
      ],
      "metadata": {
        "id": "GKi40XKeMggc"
      }
    },
    {
      "cell_type": "code",
      "source": [
        "# Mendefinisikan fungsi\n",
        "def hello_world():\n",
        "    print('Hello World!')\n",
        "    \n",
        "def add(a, b):\n",
        "    return a+b\n",
        "\n",
        "def pangkat(x, y):\n",
        "  return x**y"
      ],
      "metadata": {
        "id": "1RTZ3BWANwPB"
      },
      "execution_count": 36,
      "outputs": []
    },
    {
      "cell_type": "code",
      "source": [
        "# Memanggil fungsi\n",
        "hello_world()\n",
        "\n",
        "print(add(1,5))\n",
        "\n",
        "print(pangkat(2,4))"
      ],
      "metadata": {
        "colab": {
          "base_uri": "https://localhost:8080/"
        },
        "id": "TTKPmNZeHTQ9",
        "outputId": "2aee8051-20c9-4b31-fb6f-ba0864cacf0c"
      },
      "execution_count": 37,
      "outputs": [
        {
          "output_type": "stream",
          "name": "stdout",
          "text": [
            "Hello World!\n",
            "6\n",
            "16\n"
          ]
        }
      ]
    }
  ]
}